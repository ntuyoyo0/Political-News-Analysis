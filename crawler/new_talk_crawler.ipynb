{
 "cells": [
  {
   "cell_type": "code",
   "execution_count": 1,
   "metadata": {},
   "outputs": [],
   "source": [
    "import sys\n",
    "import pickle\n",
    "import requests\n",
    "from datetime import datetime\n",
    "from bs4 import BeautifulSoup"
   ]
  },
  {
   "cell_type": "code",
   "execution_count": 2,
   "metadata": {},
   "outputs": [],
   "source": [
    "# 擷取此新聞的發佈日期\n",
    "def get_date(news_block_node):\n",
    "    date_string = news_block_node.find(class_=\"news_date\").string.split('|')[0][2:-1]\n",
    "    return(datetime.strptime(date_string, '%Y.%m.%d').strftime('%Y-%m-%d'))\n",
    "\n",
    "# 擷取此新聞的標題\n",
    "def get_title(news_block_node):\n",
    "    return news_block_node.find(class_=\"news_title\").a.string\n",
    "\n",
    "# 擷取此新聞連結的網址\n",
    "def get_link(news_block_node):\n",
    "    return news_block_node.find(class_=\"news_title\").a.get('href')\n",
    "\n",
    "# 進入新聞連結的頁面，擷取裡面的文字\n",
    "def get_content(link):\n",
    "    r = requests.get(link)\n",
    "    r.encoding = \"UTF-8\"\n",
    "    soup = BeautifulSoup(r.text, 'html.parser')\n",
    "    article_node = soup.find(itemprop='articleBody')\n",
    "    article = article_node.get_text()\n",
    "    return article.replace(\"\\n\", \"\")"
   ]
  },
  {
   "cell_type": "code",
   "execution_count": 3,
   "metadata": {},
   "outputs": [],
   "source": [
    "def get_news_info(each_news):\n",
    "    date  = get_date(each_news)    # 擷取此新聞的發佈日期\n",
    "    title = get_title(each_news)   # 擷取此新聞的標題\n",
    "    link  = get_link(each_news)    # 擷取此新聞連結的網址\n",
    "    content = get_content(link)    # 進入新聞連結的頁面，擷取裡面的文字\n",
    "    \n",
    "    info = {'date' : date,\n",
    "            'title': title,\n",
    "            'link' : link,\n",
    "            'content': content}\n",
    "    return(info)\n",
    "\n",
    "def get_page_news(page_url):\n",
    "    r = requests.get(page_url)     # 使用 GET 方式下載網頁\n",
    "    r.encoding = \"UTF-8\"\n",
    "\n",
    "    # r.text 是網頁的 HTML 原始碼\n",
    "    soup = BeautifulSoup(r.text, 'html.parser')    # 以 Beautiful Soup 解析 HTML 程式碼\n",
    "    news_blocks = soup.find_all(class_=\"news-list-item clearfix \")   # 找出網頁第一頁的所有新聞\n",
    "    \n",
    "    news = []\n",
    "    for each_news in news_blocks:\n",
    "        try:\n",
    "            news_info = get_news_info(each_news)\n",
    "#             print(get_title(each_news))\n",
    "        except:\n",
    "#             print('-------{}-------'.format())\n",
    "            pass\n",
    "\n",
    "        news.append(news_info)                    # 將每則新聞的資訊逐一加入至 list\n",
    "    return(news)\n",
    "\n",
    "\n",
    "# 只擷取此網站第 1 頁至第 270 頁的所有新聞\n",
    "def get_new_talk_news(from_page=1, end_page=270, url=\"https://newtalk.tw/news/subcategory/2/政治/\"):\n",
    "    print(\"page_number from {} to {}\".format(from_page, end_page -1))\n",
    "    data = []\n",
    "    for page_number in range(from_page, end_page):\n",
    "        print(\"page_number: {}\".format(page_number))\n",
    "        data = data + get_page_news( url+str(page_number) )\n",
    "    \n",
    "    print('done')\n",
    "    return(data)"
   ]
  },
  {
   "cell_type": "code",
   "execution_count": 4,
   "metadata": {},
   "outputs": [
    {
     "name": "stdout",
     "output_type": "stream",
     "text": [
      "page_number from 1 to 5\n",
      "page_number: 1\n",
      "page_number: 2\n",
      "page_number: 3\n",
      "page_number: 4\n",
      "page_number: 5\n",
      "done\n"
     ]
    }
   ],
   "source": [
    "data = get_new_talk_news(from_page=1, end_page=6)    # 只擷取此網站第 1 頁至第 270 頁的所有新聞"
   ]
  },
  {
   "cell_type": "code",
   "execution_count": 30,
   "metadata": {},
   "outputs": [],
   "source": [
    "sys.setrecursionlimit(100000)   # 設定遞迴最多能到幾層   ps. 不知為啥要做此設定\n",
    "\n",
    "# 將收集到的資訊保存至 data/new_talk.pkl\n",
    "with open('data/new_talk.pkl', 'wb') as handle:\n",
    "    pickle.dump(data, handle)"
   ]
  }
 ],
 "metadata": {
  "kernelspec": {
   "display_name": "Python 3",
   "language": "python",
   "name": "python3"
  },
  "language_info": {
   "codemirror_mode": {
    "name": "ipython",
    "version": 3
   },
   "file_extension": ".py",
   "mimetype": "text/x-python",
   "name": "python",
   "nbconvert_exporter": "python",
   "pygments_lexer": "ipython3",
   "version": "3.6.6"
  }
 },
 "nbformat": 4,
 "nbformat_minor": 2
}
